{
  "cells": [
    {
      "cell_type": "markdown",
      "id": "1561554f",
      "metadata": {
        "id": "1561554f"
      },
      "source": [
        "# Домашнє завдання до теми \"Модулі. Винятки (Exceptions)\"\n",
        "\n"
      ]
    },
    {
      "cell_type": "markdown",
      "metadata": {
        "ExecuteTime": {
          "end_time": "2022-10-22T04:15:21.939494Z",
          "start_time": "2022-10-22T04:15:21.933981Z"
        },
        "id": "c094769a"
      },
      "source": [
        "Почнемо з закріплення матеріалу щодо фукнцій і віпрацювання роботи з модулем `random`.\n",
        "\n",
        "1. Напишіть функцію `get_random_int_list`, яка приймає один аргумент - кількість чисел `n`, і повертає список, що містить `n` випадкових цілих чисел з діапазону від 0 до 100 включно. Для генерації випадкових чисел використовуйте модуль `random`.\n",
        "\n",
        "  **Вимоги до реалізації:**\n",
        "\n",
        "  - Функція повинна приймати один аргумент `n` - кількість чисел у списку.\n",
        "  - Для генерації випадкових чисел використовуйте функцію `random.randint(0, 100)`.\n",
        "  - Повернутий список має містити рівно `n` випадкових чисел.\n",
        "\n",
        "  **Приклади виклику функції та очікувані результати:**\n",
        "\n",
        "  1. **Приклад 1:**\n",
        "    - Виклик функції: `get_random_int_list(5)`\n",
        "    - Очікуваний результат: Список з 5 випадковими числами, наприклад, `[23, 77, 45, 8, 91]`. Кожен запуск може повертати різні числа через випадковість.\n",
        "\n",
        "  2. **Приклад 2:**\n",
        "    - Виклик функції: `get_random_int_list(3)`\n",
        "    - Очікуваний результат: Список з 3 випадковими числами, наприклад, `[64, 20, 37]`.\n",
        "\n",
        "  3. **Приклад 3:**\n",
        "    - Виклик функції: `get_random_int_list(0)`\n",
        "    - Очікуваний результат: Порожній список `[]`, оскільки було запитано 0 чисел.\n",
        "\n",
        "Продемонструйте результати робити функції запустивши код нижче."
      ],
      "id": "c094769a"
    },
    {
      "cell_type": "code",
      "source": [
        "import random\n",
        "\n",
        "def get_random_int_list(n):\n",
        "    return [random.randint(0, 100) for _ in range(n)]\n",
        "print(get_random_int_list(5))"
      ],
      "metadata": {
        "id": "m5hUhAQaqP78",
        "outputId": "bb20d64f-2537-4900-8200-215c62ca48fd",
        "colab": {
          "base_uri": "https://localhost:8080/"
        }
      },
      "id": "m5hUhAQaqP78",
      "execution_count": 1,
      "outputs": [
        {
          "output_type": "stream",
          "name": "stdout",
          "text": [
            "[80, 32, 90, 44, 98]\n"
          ]
        }
      ]
    },
    {
      "cell_type": "code",
      "source": [
        "for number in [5, 3, 0, 8]:\n",
        "  print(get_random_int_list(number))"
      ],
      "metadata": {
        "id": "XV-QkjcbqZNv",
        "outputId": "a3c16a45-18dc-49c4-bc5a-4907ae4d825a",
        "colab": {
          "base_uri": "https://localhost:8080/"
        }
      },
      "id": "XV-QkjcbqZNv",
      "execution_count": 2,
      "outputs": [
        {
          "output_type": "stream",
          "name": "stdout",
          "text": [
            "[1, 26, 80, 98, 8]\n",
            "[83, 83, 58]\n",
            "[]\n",
            "[11, 57, 69, 85, 12, 46, 8, 97]\n"
          ]
        }
      ]
    },
    {
      "cell_type": "markdown",
      "source": [
        "2. **Конвертер рядка в число**\n",
        "\n",
        "  **Опис завдання:**\n",
        "\n",
        "  Створіть функцію `string_to_int`, яка приймає рядок і намагається перетворити його в ціле число. Якщо рядок не можна перетворити на ціле число, функція повинна обробити виключення про неправильне значення, вивести на екран `\"Некоректне введення\"` і повернути `None`.\n",
        "\n",
        "  **Приклади виклику функції:**\n",
        "\n",
        "  - `string_to_int(\"123\")` повинно повернути `123`.\n",
        "  - `string_to_int(\"abc\")` повинно вивести повідомлення `\"Некоректне введення\"` і повернути `None`."
      ],
      "metadata": {
        "id": "iBHEcmV7R34X"
      },
      "id": "iBHEcmV7R34X"
    },
    {
      "cell_type": "code",
      "source": [
        "def string_to_int(test_inputs):\n",
        "    try:\n",
        "        return int(test_inputs)\n",
        "    except ValueError:\n",
        "        print(\"Некоректне введення\")\n",
        "        return None"
      ],
      "metadata": {
        "id": "5UT2YNrISdLR"
      },
      "execution_count": 3,
      "outputs": [],
      "id": "5UT2YNrISdLR"
    },
    {
      "cell_type": "markdown",
      "source": [
        "Продемонструйте результати робити функції запустивши код нижче."
      ],
      "metadata": {
        "id": "UbIaPiOHSgE7"
      },
      "id": "UbIaPiOHSgE7"
    },
    {
      "cell_type": "code",
      "source": [
        "test_inputs = [\"123\", \"abc\", \"456.78\", \"100\"]\n",
        "results = {input_value: string_to_int(input_value) for input_value in test_inputs}\n",
        "print(results)\n"
      ],
      "metadata": {
        "id": "AL7sINtwSgcs",
        "outputId": "b1256805-7597-4ee1-9ed6-ac63538d744c",
        "colab": {
          "base_uri": "https://localhost:8080/"
        }
      },
      "execution_count": 4,
      "outputs": [
        {
          "output_type": "stream",
          "name": "stdout",
          "text": [
            "Некоректне введення\n",
            "Некоректне введення\n",
            "{'123': 123, 'abc': None, '456.78': None, '100': 100}\n"
          ]
        }
      ],
      "id": "AL7sINtwSgcs"
    },
    {
      "cell_type": "markdown",
      "source": [
        "3. **Контроль введення користувача**\n",
        "\n",
        "  Створіть функцію `check_age`, яка приймає на вхід вік користувача у форматі рядок і перевіряє, чи є користувач повнолітнім (18 років і старше). Якщо введене значення не може бути перетворено на ціле число, функція повинна обробити виняток, вивести на екран `\"Некоректне введення. Будь ласка, введіть числове значення.\"` і повернути `False`. Якщо вік користувача менше 18, вивести повідомлення `\"Ви не повнолітній!\"` і також повернути `False`. У випадку, коли вік 18 років або більше, вивести повідомлення `\"Ви повнолітній.\"` і повернути `True`.\n",
        "\n",
        "  **Приклад роботи програми:**\n",
        "\n",
        "  1. Користувач вводить `\"двадцять\"`: програма виводить на екрнан `\"Некоректне введення. Будь ласка, введіть числове значення.\"` і повертає `False`.\n",
        "  2. Користувач вводить `\"17\"`: програма виводить `\"Ви не повнолітній!\"` і повертає `False`.\n",
        "  3. Користувач вводить `\"18\"`: програма виводить `\"Ви повнолітній.\"` і повертає `True`.\n"
      ],
      "metadata": {
        "id": "KkzLp29pQ1-U"
      },
      "id": "KkzLp29pQ1-U"
    },
    {
      "cell_type": "code",
      "source": [
        "def check_age(age_str):\n",
        "    try:\n",
        "        age = int(age_str)\n",
        "        if age >= 18:\n",
        "            print(\"Ви повнолітній.\")\n",
        "            return True\n",
        "        else:\n",
        "            print(\"Ви не повнолітній!\")\n",
        "            return False\n",
        "    except ValueError:\n",
        "        print(\"Некоректне введення. Будь ласка, введіть числове значення.\")\n",
        "        return False"
      ],
      "metadata": {
        "id": "K3PTENm-Ae3-"
      },
      "execution_count": 5,
      "outputs": [],
      "id": "K3PTENm-Ae3-"
    },
    {
      "cell_type": "markdown",
      "source": [
        "Продемонструйте результати робити функції запустивши код нижче."
      ],
      "metadata": {
        "id": "huphMh7YR2GJ"
      },
      "id": "huphMh7YR2GJ"
    },
    {
      "cell_type": "code",
      "source": [
        "age_str = [\"двадцять\", \"17\", \"18\"]\n",
        "results = [check_age(input_value) for input_value in age_str]\n",
        "print(results)"
      ],
      "metadata": {
        "id": "YuEQrntVRgSE",
        "outputId": "00e855eb-cb5a-4af3-e352-cfb19d635793",
        "colab": {
          "base_uri": "https://localhost:8080/"
        }
      },
      "execution_count": 6,
      "outputs": [
        {
          "output_type": "stream",
          "name": "stdout",
          "text": [
            "Некоректне введення. Будь ласка, введіть числове значення.\n",
            "Ви не повнолітній!\n",
            "Ви повнолітній.\n",
            "[False, False, True]\n"
          ]
        }
      ],
      "id": "YuEQrntVRgSE"
    },
    {
      "cell_type": "markdown",
      "source": [
        "4. **Обчислення середнього з перевіркою:** Напишіть функцію `calculate_average`, яка приймає на вхід список чисел і обчислює середнє арифметичне значення цих чисел. Функція повинна перевіряти, що всі елементи списку є числами. Якщо серед елементів списку зустрічається елемент, який не є числом, функція повинна вивести повідомлення `\"Всі елементи повинні бути числами\"` і повернути `None`.\n",
        "\n",
        "  **Приклади виклику функції:**\n",
        "\n",
        "  - `calculate_average([1, 2, 3, 4, 5])` повинно повернути `3.0`.\n",
        "  - `calculate_average([1, \"2\", 3])` повинно вивести `\"Всі елементи повинні бути числами\"` і повернути `None`.\n",
        "  - `calculate_average([-1.1, \"ф\", 4])` повинно вивести `\"Всі елементи повинні бути числами\"` і повернути `None`."
      ],
      "metadata": {
        "id": "CQg-zIJGTqjw"
      },
      "id": "CQg-zIJGTqjw"
    },
    {
      "cell_type": "code",
      "source": [
        "def calculate_average(test_data):\n",
        "    try:\n",
        "        if not all(isinstance(num, (int, float)) for num in test_data):\n",
        "            print(\"Всі елементи повинні бути числами\")\n",
        "            return None\n",
        "\n",
        "        total_sum = sum(test_data)\n",
        "        count = len(test_data)\n",
        "        return total_sum / count if count > 0 else None\n",
        "\n",
        "    except TypeError:\n",
        "        print(\"Всі елементи повинні бути числами\")\n",
        "        return None"
      ],
      "metadata": {
        "id": "91VU_y5sUAKB"
      },
      "execution_count": 7,
      "outputs": [],
      "id": "91VU_y5sUAKB"
    },
    {
      "cell_type": "markdown",
      "source": [
        "Продемонструйте результати робити функції запустивши код нижче."
      ],
      "metadata": {
        "id": "ib-JWKKmUeF8"
      },
      "id": "ib-JWKKmUeF8"
    },
    {
      "cell_type": "code",
      "source": [
        "test_data = [\n",
        "    [1, 2, 3, 4, 5],  # Коректні дані\n",
        "    [1, \"2\", 3],      # Некоректні дані\n",
        "    [10, 20, 30],     # Коректні дані\n",
        "    [-1.1, \"ф\", 4]    # Некоректні дані\n",
        "]\n",
        "\n",
        "results = [calculate_average(data) for data in test_data]\n",
        "print(results)"
      ],
      "metadata": {
        "id": "axEmZx0rUNqT",
        "outputId": "332c8af8-5c91-48e5-8c18-125e6985b1a4",
        "colab": {
          "base_uri": "https://localhost:8080/"
        }
      },
      "execution_count": 8,
      "outputs": [
        {
          "output_type": "stream",
          "name": "stdout",
          "text": [
            "Всі елементи повинні бути числами\n",
            "Всі елементи повинні бути числами\n",
            "[3.0, None, 20.0, None]\n"
          ]
        }
      ],
      "id": "axEmZx0rUNqT"
    }
  ],
  "metadata": {
    "kernelspec": {
      "display_name": "Python 3 (ipykernel)",
      "language": "python",
      "name": "python3"
    },
    "language_info": {
      "codemirror_mode": {
        "name": "ipython",
        "version": 3
      },
      "file_extension": ".py",
      "mimetype": "text/x-python",
      "name": "python",
      "nbconvert_exporter": "python",
      "pygments_lexer": "ipython3",
      "version": "3.10.4"
    },
    "toc": {
      "base_numbering": 1,
      "nav_menu": {},
      "number_sections": true,
      "sideBar": true,
      "skip_h1_title": false,
      "title_cell": "Table of Contents",
      "title_sidebar": "Contents",
      "toc_cell": false,
      "toc_position": {},
      "toc_section_display": true,
      "toc_window_display": false
    },
    "colab": {
      "provenance": []
    }
  },
  "nbformat": 4,
  "nbformat_minor": 5
}