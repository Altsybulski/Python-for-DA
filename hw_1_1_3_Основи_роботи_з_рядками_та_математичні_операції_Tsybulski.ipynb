{
  "nbformat": 4,
  "nbformat_minor": 0,
  "metadata": {
    "colab": {
      "provenance": []
    },
    "kernelspec": {
      "name": "python3",
      "display_name": "Python 3"
    },
    "language_info": {
      "name": "python"
    }
  },
  "cells": [
    {
      "cell_type": "markdown",
      "source": [
        "# Домашнє завдання до теми \"Основи роботи з рядками та математичні операції\""
      ],
      "metadata": {
        "id": "9ngpqNFm8w1a"
      }
    },
    {
      "cell_type": "markdown",
      "source": [
        "1. Створіть змінні `a`, `b`, `c` та `d`, задайте їм значення відповідно 101, 210, 111, 402, та обчисліть з допомогою Python наступний вираз:  $$ \\frac{(a+b) * c}{d} $$\n",
        "\n",
        "**Важливо**: тут ми маємо обчислити значення саме з використанням змінних, а не просто чисел, як би ми робили у калькуряторі. Змінні потрібні аби за бажання ми могли змінити їх значення та не переписувати код обчислення виразу, бо він буде працювати для різних значень змінних."
      ],
      "metadata": {
        "id": "DEkQSeSyTum-"
      }
    },
    {
      "cell_type": "code",
      "source": [
        "a = 101\n",
        "b = 210\n",
        "c = 111\n",
        "d = 402\n",
        "(a + b) * c / d"
      ],
      "metadata": {
        "id": "u1ICQq5L3eKH",
        "colab": {
          "base_uri": "https://localhost:8080/"
        },
        "outputId": "4af3564b-fed5-4ba2-9899-205533860b4c"
      },
      "execution_count": 1,
      "outputs": [
        {
          "output_type": "execute_result",
          "data": {
            "text/plain": [
              "85.8731343283582"
            ]
          },
          "metadata": {},
          "execution_count": 1
        }
      ]
    },
    {
      "cell_type": "markdown",
      "source": [
        "або"
      ],
      "metadata": {
        "id": "WRSdaAbGVOjz"
      }
    },
    {
      "cell_type": "markdown",
      "source": [
        "Очікувана відповідь: 85.8731343283582"
      ],
      "metadata": {
        "id": "FnBVPt7G3bcR"
      }
    },
    {
      "cell_type": "code",
      "source": [
        "a = 101\n",
        "b = 210\n",
        "c = 111\n",
        "d = 402\n",
        "e = (a + b) * c / d\n",
        "print(e)"
      ],
      "metadata": {
        "colab": {
          "base_uri": "https://localhost:8080/"
        },
        "id": "drSbjJq4VYk4",
        "outputId": "1d6fa217-69f7-484b-d1cc-6e2faee43e30"
      },
      "execution_count": 3,
      "outputs": [
        {
          "output_type": "stream",
          "name": "stdout",
          "text": [
            "85.8731343283582\n"
          ]
        }
      ]
    },
    {
      "cell_type": "markdown",
      "source": [
        "2. Якою буде остача від ділення числа 11283 на 89? Обчисліть з допомогою Python."
      ],
      "metadata": {
        "id": "HI3eEYZRT4Cn"
      }
    },
    {
      "cell_type": "code",
      "execution_count": 4,
      "metadata": {
        "id": "ejZc3ng_TpgY",
        "colab": {
          "base_uri": "https://localhost:8080/"
        },
        "outputId": "bfc44be5-9dc6-4813-f1a6-b02c98f2fec4"
      },
      "outputs": [
        {
          "output_type": "stream",
          "name": "stdout",
          "text": [
            "69\n"
          ]
        }
      ],
      "source": [
        "a = 11283\n",
        "b = 89\n",
        "d = a % b\n",
        "print(d)"
      ]
    },
    {
      "cell_type": "markdown",
      "source": [
        "3. Скільки цілих разів поміститься число 89 в 11283? (Або що те саме: який буде результат цілочисельного ділення 11283 на 89?)"
      ],
      "metadata": {
        "id": "RO02CqdqT9oG"
      }
    },
    {
      "cell_type": "code",
      "source": [
        "a = 11283\n",
        "b = 89\n",
        "d = a // b\n",
        "print(d)"
      ],
      "metadata": {
        "id": "KEUb9lO5T_PI",
        "colab": {
          "base_uri": "https://localhost:8080/"
        },
        "outputId": "099b48c1-b07b-4b35-bc4d-332680975fb8"
      },
      "execution_count": 5,
      "outputs": [
        {
          "output_type": "stream",
          "name": "stdout",
          "text": [
            "126\n"
          ]
        }
      ]
    },
    {
      "cell_type": "markdown",
      "source": [
        "4. Запишіть у змінну `name` ваше імʼя."
      ],
      "metadata": {
        "id": "5fnIPumiT_rt"
      }
    },
    {
      "cell_type": "code",
      "source": [
        "name = ('Alex')"
      ],
      "metadata": {
        "id": "xP7Mbq45UFlV"
      },
      "execution_count": 8,
      "outputs": []
    },
    {
      "cell_type": "markdown",
      "source": [
        "5. Запишіть у змінну `surname` ваше прізвище."
      ],
      "metadata": {
        "id": "fR9TqY79UNDL"
      }
    },
    {
      "cell_type": "code",
      "source": [
        "surname = ('Tsybulski')"
      ],
      "metadata": {
        "id": "0qHjyMyvUOM1"
      },
      "execution_count": 9,
      "outputs": []
    },
    {
      "cell_type": "markdown",
      "source": [
        "6. Сконкатенуйте імʼя та прізвище в одну фразу через пробіл. Запишіть результат у нову змінну `name_surname` та виведіть результат на екран.  "
      ],
      "metadata": {
        "id": "zqKncQLwUOxh"
      }
    },
    {
      "cell_type": "code",
      "source": [
        "name_surname = name + ' ' + surname\n",
        "print(name_surname)"
      ],
      "metadata": {
        "id": "8E-blvN-UTPg",
        "colab": {
          "base_uri": "https://localhost:8080/"
        },
        "outputId": "1de2671b-1ae7-4f2f-c2e4-95b6efb4418a"
      },
      "execution_count": 10,
      "outputs": [
        {
          "output_type": "stream",
          "name": "stdout",
          "text": [
            "Alex Tsybulski\n"
          ]
        }
      ]
    },
    {
      "cell_type": "markdown",
      "source": [
        "Очікувана відповідь (тільки з вашими даними): 'Hanna Pylieva'"
      ],
      "metadata": {
        "id": "_Unl7EXlUgYn"
      }
    },
    {
      "cell_type": "markdown",
      "source": [
        "7. Зробіть усі літери змінної `name_surname` заглавними використовуючи метод рядків в Python:"
      ],
      "metadata": {
        "id": "z-3FI0IrUT0U"
      }
    },
    {
      "cell_type": "code",
      "source": [
        "print(name_surname.upper())"
      ],
      "metadata": {
        "id": "9ahIwyT5UblY",
        "colab": {
          "base_uri": "https://localhost:8080/"
        },
        "outputId": "7c2f2b87-14d7-40b3-ef46-bdee2955526a"
      },
      "execution_count": 19,
      "outputs": [
        {
          "output_type": "stream",
          "name": "stdout",
          "text": [
            "ALEX TSYBULSKI\n"
          ]
        }
      ]
    },
    {
      "cell_type": "markdown",
      "source": [
        "Очікувана відповідь (тільки з вашими даними): 'HANNA PYLIEVA'"
      ],
      "metadata": {
        "id": "6PDcqfmdUcLo"
      }
    },
    {
      "cell_type": "code",
      "source": [],
      "metadata": {
        "id": "K40EaRr2UfsH"
      },
      "execution_count": null,
      "outputs": []
    },
    {
      "cell_type": "markdown",
      "source": [
        "8. Виведіть третю літеру вашого `name_surname`. Тут уважно, треба саме третя літера. Згадайте, з якого значення починається індексування значень в Python."
      ],
      "metadata": {
        "id": "qNl8KxeXUtnL"
      }
    },
    {
      "cell_type": "code",
      "source": [
        "name_surname = 'Alex Tsybulski'\n",
        "print(name_surname[2])"
      ],
      "metadata": {
        "id": "Tp7stqAhUvJz",
        "colab": {
          "base_uri": "https://localhost:8080/"
        },
        "outputId": "ecb0d451-c0ef-4327-efdc-76d7a47fba15"
      },
      "execution_count": 20,
      "outputs": [
        {
          "output_type": "stream",
          "name": "stdout",
          "text": [
            "e\n"
          ]
        }
      ]
    },
    {
      "cell_type": "markdown",
      "source": [
        "Очікувана відповідь (тільки з вашими даними): 'n'"
      ],
      "metadata": {
        "id": "GYWHqb3UUvqk"
      }
    },
    {
      "cell_type": "markdown",
      "metadata": {
        "pycharm": {
          "name": "#%% md\n"
        },
        "id": "1f3cc1a7"
      },
      "source": [
        "9. Виведіть першу та останню літеру вашого прізвища."
      ]
    },
    {
      "cell_type": "code",
      "source": [
        "name_surname = 'Alex Tsybulski'\n",
        "print(name_surname[5], name_surname[-1])"
      ],
      "metadata": {
        "id": "s1ZgN3xuUyB8",
        "colab": {
          "base_uri": "https://localhost:8080/"
        },
        "outputId": "4499c9e6-f1fa-457e-d4d7-486671536e14"
      },
      "execution_count": 23,
      "outputs": [
        {
          "output_type": "stream",
          "name": "stdout",
          "text": [
            "T i\n"
          ]
        }
      ]
    },
    {
      "cell_type": "markdown",
      "source": [
        "Очікувана відповідь (тільки з вашими даними): ('P', 'a')"
      ],
      "metadata": {
        "id": "KjlFjjhHVAt2"
      }
    },
    {
      "cell_type": "markdown",
      "source": [
        "10. Виведіть довжину вашого прізвища."
      ],
      "metadata": {
        "id": "UYLoho3DVMt2"
      }
    },
    {
      "cell_type": "code",
      "source": [
        "name_surname = 'Alex Tsybulski'\n",
        "len(name_surname)"
      ],
      "metadata": {
        "id": "0TPJBh0LVA8q",
        "colab": {
          "base_uri": "https://localhost:8080/"
        },
        "outputId": "583d1201-85ad-4623-e129-7ba34858b2fd"
      },
      "execution_count": 24,
      "outputs": [
        {
          "output_type": "execute_result",
          "data": {
            "text/plain": [
              "14"
            ]
          },
          "metadata": {},
          "execution_count": 24
        }
      ]
    },
    {
      "cell_type": "markdown",
      "source": [
        "Очікувана відповідь (тільки з вашими даними): 7\n"
      ],
      "metadata": {
        "id": "9FaxqvVgVRYW"
      }
    },
    {
      "cell_type": "markdown",
      "source": [
        "11. Виведіть кількість літер `a` у столиці Мадагаскару `Antananarivo`. Важливо врахувати всі літери, як великі, так і маленькі."
      ],
      "metadata": {
        "id": "JN2wxSlGVVAj"
      }
    },
    {
      "cell_type": "code",
      "source": [
        "capital = 'Antananarivo'\n",
        "capital.count('A') + capital.count('a')"
      ],
      "metadata": {
        "id": "LCeHHz9bVUgL",
        "colab": {
          "base_uri": "https://localhost:8080/"
        },
        "outputId": "025d426e-a605-4a7b-97e4-531225b0f3a4"
      },
      "execution_count": 27,
      "outputs": [
        {
          "output_type": "execute_result",
          "data": {
            "text/plain": [
              "4"
            ]
          },
          "metadata": {},
          "execution_count": 27
        }
      ]
    },
    {
      "cell_type": "markdown",
      "source": [
        "Очікувана відповідь: 4"
      ],
      "metadata": {
        "id": "Ux4SQiuSVo92"
      }
    },
    {
      "cell_type": "markdown",
      "source": [
        "12. Створіть рядок `my_string` зі значенням: \"The quick brown fox jumps over the lazy dog!!!\".   \n",
        "Перевірте, чи починається рядок `my_string` з \"The\" і чи закінчується він \"dog!\". Виведіть результати на екран."
      ],
      "metadata": {
        "id": "mwEs0xnmVtes"
      }
    },
    {
      "cell_type": "code",
      "source": [
        "my_string = 'The quick brown fox jumps over the lazy dog!!!'\n",
        "print(my_string.startswith('The'))\n",
        "print(my_string.endswith('dog!'))"
      ],
      "metadata": {
        "id": "VlXDNpXcVs59",
        "colab": {
          "base_uri": "https://localhost:8080/"
        },
        "outputId": "75368184-b757-45c4-f2e9-381c31306a85"
      },
      "execution_count": 28,
      "outputs": [
        {
          "output_type": "stream",
          "name": "stdout",
          "text": [
            "True\n",
            "False\n"
          ]
        }
      ]
    },
    {
      "cell_type": "markdown",
      "source": [
        "13. Розділіть рядок `my_string` на список окремих слів, а потім з'єднайте всі слова через нижнє підкреслювання. Виведіть результат на екран."
      ],
      "metadata": {
        "id": "Yc-UwtqvV_h0"
      }
    },
    {
      "cell_type": "code",
      "source": [
        "my_string = 'The quick brown fox jumps over the lazy dog!!!'\n",
        "my_string = my_string.split()\n",
        "print('_'.join(my_string))"
      ],
      "metadata": {
        "id": "m5I48Ii-WDSK",
        "colab": {
          "base_uri": "https://localhost:8080/"
        },
        "outputId": "868b3e3e-485d-47a2-cc01-7be62020d7ee"
      },
      "execution_count": 29,
      "outputs": [
        {
          "output_type": "stream",
          "name": "stdout",
          "text": [
            "The_quick_brown_fox_jumps_over_the_lazy_dog!!!\n"
          ]
        }
      ]
    },
    {
      "cell_type": "markdown",
      "source": [
        "Очікуваний результат: `The_quick_brown_fox_jumps_over_the_lazy_dog!!!`"
      ],
      "metadata": {
        "id": "UqvD1_jIXRhx"
      }
    }
  ]
}