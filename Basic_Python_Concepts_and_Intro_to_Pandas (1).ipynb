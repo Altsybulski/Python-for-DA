{
 "cells": [
  {
   "cell_type": "markdown",
   "id": "c6a87d06",
   "metadata": {
    "id": "c6a87d06"
   },
   "source": [
    "# Основні поняття Python\n",
    "## Вступ до змінних і типів даних\n",
    "\n",
    "Змінні (англійською \"variables\") використовуються для зберігання значень у Python. Змінні можуть мати довільну назву, яка складається з літер, цифр і нижніх підкреслень.\n",
    "\n",
    "У прикладі коду ми створили три змінні: `x`, `y` і `z`. `x` зберігає значення `5`, `y` зберігає рядок `привіт`, а `z` зберігає логічне значення `True`. Python підтримує кілька типів даних, включаючи цілі числа, числа з плаваючою комою, рядки та логічні значення. Ми використали по одному з кожного у прикладі коду нижче."
   ]
  },
  {
   "cell_type": "code",
   "execution_count": null,
   "id": "54e5f02c",
   "metadata": {
    "ExecuteTime": {
     "end_time": "2023-05-06T08:10:23.749294Z",
     "start_time": "2023-05-06T08:10:23.742938Z"
    },
    "id": "54e5f02c"
   },
   "outputs": [],
   "source": [
    "x = 5\n",
    "y = \"привіт\"\n",
    "z = True"
   ]
  },
  {
   "cell_type": "markdown",
   "id": "OldP98kcmG1Z",
   "metadata": {
    "id": "OldP98kcmG1Z"
   },
   "source": [
    "У кожної змінної є тип. Ось як його перевірити:"
   ]
  },
  {
   "cell_type": "code",
   "execution_count": null,
   "id": "6mgAzMGimArn",
   "metadata": {
    "id": "6mgAzMGimArn"
   },
   "outputs": [],
   "source": [
    "type(x)"
   ]
  },
  {
   "cell_type": "code",
   "execution_count": null,
   "id": "KNJZEckemMAW",
   "metadata": {
    "id": "KNJZEckemMAW"
   },
   "outputs": [],
   "source": [
    "type(y), type(z)"
   ]
  },
  {
   "cell_type": "code",
   "execution_count": null,
   "id": "86h0-BjBmVWd",
   "metadata": {
    "id": "86h0-BjBmVWd"
   },
   "outputs": [],
   "source": [
    "display(type(y), type(z))"
   ]
  },
  {
   "cell_type": "markdown",
   "id": "fc0635ca",
   "metadata": {
    "id": "fc0635ca"
   },
   "source": [
    "Змінну ми можемо використовувати далі у програмі, або взагалі перевизначити."
   ]
  },
  {
   "cell_type": "code",
   "execution_count": null,
   "id": "c0aa00e1",
   "metadata": {
    "ExecuteTime": {
     "end_time": "2023-05-06T08:10:24.540594Z",
     "start_time": "2023-05-06T08:10:24.523278Z"
    },
    "id": "c0aa00e1"
   },
   "outputs": [],
   "source": [
    "x"
   ]
  },
  {
   "cell_type": "code",
   "execution_count": null,
   "id": "c149000d",
   "metadata": {
    "ExecuteTime": {
     "end_time": "2023-05-06T08:10:28.998430Z",
     "start_time": "2023-05-06T08:10:28.992582Z"
    },
    "id": "c149000d"
   },
   "outputs": [],
   "source": [
    "x + 2"
   ]
  },
  {
   "cell_type": "code",
   "execution_count": null,
   "id": "9c52fac0",
   "metadata": {
    "ExecuteTime": {
     "end_time": "2023-05-06T08:10:40.096930Z",
     "start_time": "2023-05-06T08:10:40.093422Z"
    },
    "id": "9c52fac0"
   },
   "outputs": [],
   "source": [
    "x = 'Лондон'"
   ]
  },
  {
   "cell_type": "code",
   "execution_count": null,
   "id": "66285e93",
   "metadata": {
    "ExecuteTime": {
     "end_time": "2023-05-06T08:10:45.706712Z",
     "start_time": "2023-05-06T08:10:45.702169Z"
    },
    "id": "66285e93"
   },
   "outputs": [],
   "source": [
    "display(x, type(x))"
   ]
  },
  {
   "cell_type": "markdown",
   "id": "8_H5n3lLkymE",
   "metadata": {
    "id": "8_H5n3lLkymE"
   },
   "source": [
    "В цьому ноутбуці для вас передбачені завдання. Давайте розглянемо, як з ними працювати."
   ]
  },
  {
   "cell_type": "markdown",
   "id": "5602239d",
   "metadata": {
    "id": "5602239d"
   },
   "source": [
    "**Завдання 0**: Створіть змінну з назвою `my_first_variable` зі значенням `16`.\n",
    "<details>\n",
    "<summary>Натисніть тут аби побачити розвʼязок</summary>\n",
    "\n",
    "```python\n",
    "my_first_variable = 16\n",
    "\n",
    "```\n",
    "</details>\n"
   ]
  },
  {
   "cell_type": "markdown",
   "id": "s2fuyBBgk9TL",
   "metadata": {
    "id": "s2fuyBBgk9TL"
   },
   "source": [
    "Тепер даю перші завдання вам для самостійного виконання."
   ]
  },
  {
   "cell_type": "markdown",
   "id": "QDvjbKDIlgWQ",
   "metadata": {
    "id": "QDvjbKDIlgWQ"
   },
   "source": [
    "**Завдання 1**: Створіть дві змінні: одну з назвою `value_1` і значенням 15.4, іншу з назвою `value_2` і значенням 199.\n",
    "\n",
    "<details>\n",
    "<summary>Натисніть тут аби побачити розвʼязок</summary>\n",
    "\n",
    "```python\n",
    "value_1 = 15.4\n",
    "value_2 = 199\n",
    "\n",
    "```\n",
    "</details>"
   ]
  },
  {
   "cell_type": "markdown",
   "id": "siiYXSpvmnh4",
   "metadata": {
    "id": "siiYXSpvmnh4"
   },
   "source": [
    "**Завдання 2**: Виведіть тип змінної `value_1`, `value_2`.\n",
    "\n",
    "<details>\n",
    "<summary>Натисніть тут аби побачити розвʼязок</summary>\n",
    "\n",
    "```python\n",
    "display(type(value_1), type(value_2))\n",
    "\n",
    "```\n",
    "</details>"
   ]
  },
  {
   "cell_type": "markdown",
   "id": "655b33ff",
   "metadata": {
    "ExecuteTime": {
     "end_time": "2023-03-10T19:41:59.808189Z",
     "start_time": "2023-03-10T19:41:59.805342Z"
    },
    "id": "655b33ff"
   },
   "source": [
    "## Основні математичні операції в Python\n",
    "Python підтримує основні математичні операції, включаючи додавання, віднімання, множення, ділення та модуль числа. У прикладі коду наведено кілька таких операцій із використанням змінних `a` і `b`. `c` зберігає результат `a + b`, `d` зберігає результат `a - b`, `e` зберігає результат `a * b`, `f` зберігає результат `a / b`, а `g` зберігає залишок `a`, поділеного на `b`."
   ]
  },
  {
   "cell_type": "code",
   "execution_count": null,
   "id": "8c2062ef",
   "metadata": {
    "ExecuteTime": {
     "end_time": "2023-03-10T19:46:05.978919Z",
     "start_time": "2023-03-10T19:46:05.975660Z"
    },
    "id": "8c2062ef"
   },
   "outputs": [],
   "source": [
    "a = 10\n",
    "b = 3\n",
    "c = a + b\n",
    "d = a - b\n",
    "e = a * b\n",
    "f = a / b\n",
    "g = a % b"
   ]
  },
  {
   "cell_type": "code",
   "execution_count": null,
   "id": "PzHW_sN4nTGd",
   "metadata": {
    "id": "PzHW_sN4nTGd"
   },
   "outputs": [],
   "source": [
    "display(a, b, c, d, e, f, g)"
   ]
  },
  {
   "cell_type": "markdown",
   "id": "zl-kqE4wCDwu",
   "metadata": {
    "id": "zl-kqE4wCDwu"
   },
   "source": [
    "Рядочки теж можна складати. Це називаєтся - конкатенація."
   ]
  },
  {
   "cell_type": "code",
   "execution_count": null,
   "id": "bOAyHtyRCDfH",
   "metadata": {
    "id": "bOAyHtyRCDfH"
   },
   "outputs": [],
   "source": [
    "s1 = 'aaa'\n",
    "s2 = 'bbb'\n",
    "s1 + s2"
   ]
  },
  {
   "cell_type": "code",
   "execution_count": null,
   "id": "fDlN2Z7gCNIu",
   "metadata": {
    "id": "fDlN2Z7gCNIu"
   },
   "outputs": [],
   "source": [
    "s1 + ' ' + s2"
   ]
  },
  {
   "cell_type": "markdown",
   "id": "lcSO3zKnCdEB",
   "metadata": {
    "id": "lcSO3zKnCdEB"
   },
   "source": [
    "Ще можна вивести конкатенацію кількох рядків таким чином:"
   ]
  },
  {
   "cell_type": "code",
   "execution_count": null,
   "id": "crMF_Un0CQpB",
   "metadata": {
    "id": "crMF_Un0CQpB"
   },
   "outputs": [],
   "source": [
    "print(s1, s2)"
   ]
  },
  {
   "cell_type": "markdown",
   "id": "wIEkiHtICjrF",
   "metadata": {
    "id": "wIEkiHtICjrF"
   },
   "source": [
    "**Завдання 3**: Визначте дві змінні: `str_value_1`, що містить рядок `Привіт! Мене звати`, і `str_value_2` , що містить ваше імʼя українською. Виведіть фразу разом `Привіт! Мене звати <ваше імʼя>`.\n",
    "\n",
    "<details>\n",
    "<summary>Натисніть тут аби побачити розвʼязок</summary>\n",
    "\n",
    "```python\n",
    "str_value_1 = 'Привіт! Мене звати'\n",
    "str_value_2 = 'Аня'\n",
    "print(str_value_1, str_value_2)\n",
    "\n",
    "```\n",
    "</details>"
   ]
  },
  {
   "cell_type": "markdown",
   "id": "0a30aea5",
   "metadata": {
    "id": "0a30aea5"
   },
   "source": [
    "# Введення в аналіз даних і Pandas\n",
    "\n",
    "Щоб проаналізувати набір даних, ви повинні виконати такі загальні дії:\n",
    "\n",
    "- Імпорт бібліотек\n",
    "- Завантаження даних\n",
    "- Дослідження структури даних\n",
    "- Чистка і трансформація типів даних\n",
    "- Візуалізація даних\n",
    "- Аналіз даних (статистичний аналіз, додаваня нових колонок, тощо)\n",
    "- Опис результатів спостережень\n",
    "\n",
    "\n",
    "## Огляд бібліотеки Pandas\n",
    "Pandas — це бібліотека Python, яка використовується для обробки та аналізу даних. У прикладі коду ми імпортували Pandas за допомогою псевдоніма pd, який зазвичай використовується в коді Python."
   ]
  },
  {
   "cell_type": "code",
   "execution_count": null,
   "id": "4bead388",
   "metadata": {
    "ExecuteTime": {
     "end_time": "2023-05-05T13:34:20.184240Z",
     "start_time": "2023-05-05T13:34:18.551240Z"
    },
    "id": "4bead388"
   },
   "outputs": [],
   "source": [
    "import pandas as pd"
   ]
  },
  {
   "cell_type": "markdown",
   "id": "66c268f9",
   "metadata": {
    "id": "66c268f9"
   },
   "source": [
    "## Читання даних із файлів CSV\n",
    "Pandas може читати дані з різних форматів файлів, включаючи файли CSV. У прикладі коду ми використали функцію read_csv() для читання даних із файлу CSV під назвою `avocado.csv`. Отримані дані зберігаються в змінній `df`, скорочено від `dataframe`.\n",
    "\n",
    "В цьому уроці ми викоритовуємо дані про продажі авокадо. Детальний опис даних доступний [тут](https://www.kaggle.com/datasets/neuromusic/avocado-prices).\n",
    "Основні колонки в даних:\n",
    "\n",
    "- `Date` - The date of the observation\n",
    "- `AveragePrice` - the average price of a single avocado\n",
    "- `type` - conventional or organic\n",
    "- `year` - the year\n",
    "- `Region` - the city or region of the observation\n",
    "- `Total Volume` - Total number of avocados sold\n",
    "\n"
   ]
  },
  {
   "cell_type": "markdown",
   "id": "NGQ-19ucvk-w",
   "metadata": {
    "id": "NGQ-19ucvk-w"
   },
   "source": [
    "Але перд читанням нам треба замаунтити наш гугл диск."
   ]
  },
  {
   "cell_type": "code",
   "execution_count": null,
   "id": "UEY5sXlLvorf",
   "metadata": {
    "id": "UEY5sXlLvorf"
   },
   "outputs": [],
   "source": [
    "from google.colab import drive\n",
    "drive.mount('/content/drive')"
   ]
  },
  {
   "cell_type": "markdown",
   "id": "fuC3u8AMwLpG",
   "metadata": {
    "id": "fuC3u8AMwLpG"
   },
   "source": [
    "Так можна визначити, який шлях до даних буде правильний."
   ]
  },
  {
   "cell_type": "code",
   "execution_count": null,
   "id": "aKofiUS6vu8u",
   "metadata": {
    "id": "aKofiUS6vu8u"
   },
   "outputs": [],
   "source": [
    "! ls drive/MyDrive/Instagram/'Майстер-клас Python for DA'"
   ]
  },
  {
   "cell_type": "code",
   "execution_count": null,
   "id": "2db9987e",
   "metadata": {
    "ExecuteTime": {
     "end_time": "2023-05-05T13:41:41.504945Z",
     "start_time": "2023-05-05T13:41:41.417138Z"
    },
    "id": "2db9987e"
   },
   "outputs": [],
   "source": [
    "df = pd.read_csv(\"drive/MyDrive/Instagram/Майстер-клас Python for DA/avocado.csv\")"
   ]
  },
  {
   "cell_type": "markdown",
   "id": "hkg-aWDiwSi4",
   "metadata": {
    "id": "hkg-aWDiwSi4"
   },
   "source": [
    "В першу чергу ми завжди дивимось на основні характеристики наших даних."
   ]
  },
  {
   "cell_type": "code",
   "execution_count": null,
   "id": "b925401d",
   "metadata": {
    "ExecuteTime": {
     "end_time": "2023-05-05T13:39:43.134853Z",
     "start_time": "2023-05-05T13:39:43.110770Z"
    },
    "id": "b925401d"
   },
   "outputs": [],
   "source": [
    "df.info()"
   ]
  },
  {
   "cell_type": "markdown",
   "id": "zGxn937GwcPw",
   "metadata": {
    "id": "zGxn937GwcPw"
   },
   "source": [
    "Також корисно подивитись на самі дані."
   ]
  },
  {
   "cell_type": "code",
   "execution_count": null,
   "id": "943932f6",
   "metadata": {
    "ExecuteTime": {
     "end_time": "2023-05-05T13:41:57.625060Z",
     "start_time": "2023-05-05T13:41:57.601095Z"
    },
    "id": "943932f6"
   },
   "outputs": [],
   "source": [
    "df.head()"
   ]
  },
  {
   "cell_type": "markdown",
   "id": "6MCu43eQ4ZBh",
   "metadata": {
    "id": "6MCu43eQ4ZBh"
   },
   "source": [
    "Бачимо, що у нас перша колонка якась дивна. Вона не мала в назви в файлі, того зчиталась як `Unnamed: 0`. Подивимось, що в ній за дані? "
   ]
  },
  {
   "cell_type": "code",
   "execution_count": null,
   "id": "f7UgoDZqAjYK",
   "metadata": {
    "id": "f7UgoDZqAjYK"
   },
   "outputs": [],
   "source": [
    "df['Unnamed: 0']"
   ]
  },
  {
   "cell_type": "code",
   "execution_count": null,
   "id": "04xLJYIKCyjn",
   "metadata": {
    "id": "04xLJYIKCyjn"
   },
   "outputs": [],
   "source": [
    "df['Unnamed: 0'].value_counts()"
   ]
  },
  {
   "cell_type": "markdown",
   "id": "dRAUTtLsDEKg",
   "metadata": {
    "id": "dRAUTtLsDEKg"
   },
   "source": [
    "Це схоже на номер тижнів. Перевіримо, а заодно подивимось, як фільтрувати дані."
   ]
  },
  {
   "cell_type": "code",
   "execution_count": null,
   "id": "qIWb8-SCEXp-",
   "metadata": {
    "id": "qIWb8-SCEXp-"
   },
   "outputs": [],
   "source": [
    "df[df.region=='Albany'][df.year==2015][df.type=='conventional']"
   ]
  },
  {
   "cell_type": "markdown",
   "id": "kP0sKbToE-xT",
   "metadata": {
    "id": "kP0sKbToE-xT"
   },
   "source": [
    "Щось типу зворотнього номеру тижня :) Гадаю, нам ця інформація не стане в нагоді, тож просто видалимо цей стовпець."
   ]
  },
  {
   "cell_type": "code",
   "execution_count": null,
   "id": "vDSFqGBXFJf9",
   "metadata": {
    "id": "vDSFqGBXFJf9"
   },
   "outputs": [],
   "source": [
    "df.drop(columns=['Unnamed: 0'])"
   ]
  },
  {
   "cell_type": "markdown",
   "id": "bRtFSf_uFlOA",
   "metadata": {
    "id": "bRtFSf_uFlOA"
   },
   "source": [
    "Аби застовувати зміни, нам треба записати кудись результат команди."
   ]
  },
  {
   "cell_type": "code",
   "execution_count": null,
   "id": "nlqo-UXlFmg_",
   "metadata": {
    "id": "nlqo-UXlFmg_"
   },
   "outputs": [],
   "source": [
    "df = df.drop(columns=['Unnamed: 0'])"
   ]
  },
  {
   "cell_type": "markdown",
   "id": "AFjVRQw94s3Z",
   "metadata": {
    "id": "AFjVRQw94s3Z"
   },
   "source": [
    "Взагалі переглянути які є різні опції у кожної функції чи які є властивості обʼєкта можна наступним чином:"
   ]
  },
  {
   "cell_type": "code",
   "execution_count": null,
   "id": "K5LXioEh49v5",
   "metadata": {
    "id": "K5LXioEh49v5"
   },
   "outputs": [],
   "source": [
    "?pd.read_csv"
   ]
  },
  {
   "cell_type": "code",
   "execution_count": null,
   "id": "VeJ11vHP5B89",
   "metadata": {
    "id": "VeJ11vHP5B89"
   },
   "outputs": [],
   "source": [
    "?df"
   ]
  },
  {
   "cell_type": "markdown",
   "id": "7IF90qCtwzG_",
   "metadata": {
    "id": "7IF90qCtwzG_"
   },
   "source": [
    "Перейменуємо колонки на більш інформативні назви. Колонки з нумеричною назвою насправді означають наступне\n",
    "```\n",
    "4046 - Total number of avocados with PLU 4046 sold\n",
    "4225 - Total number of avocados with PLU 4225 sold\n",
    "4770 - Total number of avocados with PLU 4770 sold\n",
    "```\n",
    "\n",
    "PLU в свою чергу моженмо трактувати наступним чином:\n",
    "\n",
    "```\n",
    "4046: non-organic small/medium Hass Avocados (~3-5 oz)\n",
    "4225: non-organic large Hass Avocados (~8-10 oz)\n",
    "4770: non-organic extra large Hass Avocados (~10-15 oz)\n",
    "```"
   ]
  },
  {
   "cell_type": "markdown",
   "id": "uv26e-nj36sE",
   "metadata": {
    "id": "uv26e-nj36sE"
   },
   "source": [
    "Перейменування робиться через метод `rename`."
   ]
  },
  {
   "cell_type": "code",
   "execution_count": null,
   "id": "n2vseNpxw3EQ",
   "metadata": {
    "id": "n2vseNpxw3EQ"
   },
   "outputs": [],
   "source": [
    "df.rename(columns={'4046': 'Small Number', '4225': 'Large Number', '4770': 'XLarge Number'})"
   ]
  },
  {
   "cell_type": "markdown",
   "id": "AZ61Kb503_p7",
   "metadata": {
    "id": "AZ61Kb503_p7"
   },
   "source": [
    "Крім запису змін в ту ж змінну можемо ще скористатись параметром `inplace`."
   ]
  },
  {
   "cell_type": "code",
   "execution_count": null,
   "id": "fjIm-7xy4IMA",
   "metadata": {
    "id": "fjIm-7xy4IMA"
   },
   "outputs": [],
   "source": [
    "df.rename(columns={'4046': 'Small Number', '4225': 'Large Number', '4770': 'XLarge Number'}, inplace=True)"
   ]
  },
  {
   "cell_type": "markdown",
   "id": "AXiSpyiE-xRz",
   "metadata": {
    "id": "AXiSpyiE-xRz"
   },
   "source": [
    "## Валідація даних\n",
    "У нас є колонка `Total Volume`, яка має бути рівною сумі всіх проданих авокадо, в сумочках і поштучно. Перевіримо це."
   ]
  },
  {
   "cell_type": "code",
   "execution_count": null,
   "id": "9ppisf7l-w6I",
   "metadata": {
    "id": "9ppisf7l-w6I"
   },
   "outputs": [],
   "source": [
    "df[['Small Number', 'Large Number', 'XLarge Number', 'Total Bags']].sum(axis=1)"
   ]
  },
  {
   "cell_type": "code",
   "execution_count": null,
   "id": "M3ihiV3R_IDg",
   "metadata": {
    "id": "M3ihiV3R_IDg"
   },
   "outputs": [],
   "source": [
    "df['Total Volume'].equals(df[['Small Number', 'Large Number', 'XLarge Number', 'Total Bags']].sum(axis=1))"
   ]
  },
  {
   "cell_type": "markdown",
   "id": "uCqlV4v0F21W",
   "metadata": {
    "id": "uCqlV4v0F21W"
   },
   "source": [
    "Не всюди умова виконується. Подивимось, в скількох даних не виконується.\n",
    "Для початку запишемо обчислення в окрему колонку."
   ]
  },
  {
   "cell_type": "code",
   "execution_count": null,
   "id": "2EGIzqqj_hBA",
   "metadata": {
    "id": "2EGIzqqj_hBA"
   },
   "outputs": [],
   "source": [
    "df['Check Sum'] = df[['Small Number', 'Large Number', 'XLarge Number', 'Total Bags']].sum(axis=1)"
   ]
  },
  {
   "cell_type": "markdown",
   "id": "C6FVEGUgIyQq",
   "metadata": {
    "id": "C6FVEGUgIyQq"
   },
   "source": [
    "Тепер маємо порівняти наші значення в колонках `Total Volume` і `Check Sum`. Зробимо це спеціальним методом з бібліотеки `numpy`."
   ]
  },
  {
   "cell_type": "code",
   "execution_count": null,
   "id": "R2QvhAqHG3Ez",
   "metadata": {
    "id": "R2QvhAqHG3Ez"
   },
   "outputs": [],
   "source": [
    "import numpy as np"
   ]
  },
  {
   "cell_type": "code",
   "execution_count": null,
   "id": "_Ogxh34N_qXr",
   "metadata": {
    "id": "_Ogxh34N_qXr"
   },
   "outputs": [],
   "source": [
    "df['Check Passed'] = np.isclose(df['Total Volume'], df['Check Sum'])"
   ]
  },
  {
   "cell_type": "markdown",
   "id": "Gd5v_FqpJASE",
   "metadata": {
    "id": "Gd5v_FqpJASE"
   },
   "source": [
    "Чому нам потрібно використовувати цей метод."
   ]
  },
  {
   "cell_type": "code",
   "execution_count": null,
   "id": "sdPT19hSGptj",
   "metadata": {
    "id": "sdPT19hSGptj"
   },
   "outputs": [],
   "source": [
    "np.isclose(12.5, 12.500000001), 12.5 == 12.500000001"
   ]
  },
  {
   "cell_type": "code",
   "execution_count": null,
   "id": "teatpB6qGGE1",
   "metadata": {
    "id": "teatpB6qGGE1"
   },
   "outputs": [],
   "source": [
    "df['Check Passed'].value_counts()"
   ]
  },
  {
   "cell_type": "markdown",
   "id": "oxTHoBPpJUCQ",
   "metadata": {
    "id": "oxTHoBPpJUCQ"
   },
   "source": [
    "**Завдання 4**: \n",
    "Вище ми використали спеціальним метод для порівняння значень типу `float`. Давайте подивимось що б було, аби ми про нього не знали. Створіть колонку `Check Passed Equal`, в яку запишіть результат порівняння через оператор `==` значень у колонках `Total Volume` і `Check Sum`. Після цього виведіть скільки рядків в такому випадку НЕ пройдуть перевірку (тобто ми могли б думати, що там значення `Total Volume` - неправильне). \n",
    "\n",
    "<details>\n",
    "<summary>Натисніть тут аби побачити розвʼязок</summary>\n",
    "\n",
    "```python\n",
    "df['Check Passed Equal'] = df['Total Volume'] == df['Check Sum']\n",
    "df['Check Passed Equal'].value_counts()\n",
    "\n",
    "```\n",
    "\n",
    "А насправді багато з цих рядочків містять коректне значення з доволі великою точністю і вважати обчислення в них неправильними було б некоректно.\n",
    "</details>"
   ]
  },
  {
   "cell_type": "markdown",
   "id": "V_q5NmTkJFvv",
   "metadata": {
    "id": "V_q5NmTkJFvv"
   },
   "source": [
    "Подивмось на дані, де у нас не пройшла перевірка."
   ]
  },
  {
   "cell_type": "code",
   "execution_count": null,
   "id": "p888PFQEGJN7",
   "metadata": {
    "id": "p888PFQEGJN7"
   },
   "outputs": [],
   "source": [
    "df[df['Check Passed']==False]"
   ]
  },
  {
   "cell_type": "markdown",
   "id": "oHXVUCpVJM_W",
   "metadata": {
    "id": "oHXVUCpVJM_W"
   },
   "source": [
    "Подивимось, чи розбіжність між ообчисленою колонкою і оригінальною - велика."
   ]
  },
  {
   "cell_type": "code",
   "execution_count": null,
   "id": "CDMPJqm5HE9E",
   "metadata": {
    "id": "CDMPJqm5HE9E"
   },
   "outputs": [],
   "source": [
    "filtered = df[df['Check Passed']==False] \n",
    "(\n",
    "    (filtered['Total Volume'] - filtered['Check Sum'])/filtered['Check Sum']\n",
    ").hist();"
   ]
  },
  {
   "cell_type": "markdown",
   "id": "9m2xb7O_H6n3",
   "metadata": {
    "id": "9m2xb7O_H6n3"
   },
   "source": [
    "Різниця невелика. Тож, просто замість попердньої колонки ми запишемо наші обчислені дані."
   ]
  },
  {
   "cell_type": "code",
   "execution_count": null,
   "id": "vplJ2NYYIA_a",
   "metadata": {
    "id": "vplJ2NYYIA_a"
   },
   "outputs": [],
   "source": [
    "df.rename(columns = {'Total Volume':'Total Volume Errors', 'Check Sum': 'Total Volume'}, inplace=True)"
   ]
  },
  {
   "cell_type": "markdown",
   "id": "Le_mQ1H-IiHA",
   "metadata": {
    "id": "Le_mQ1H-IiHA"
   },
   "source": [
    "**Завдання 5**: Виведіть перші 5 рядочків оновлених даних аби перевірити, який вигляд вони мають.\n",
    "\n",
    "<details>\n",
    "<summary>Натисніть тут аби побачити розвʼязок</summary>\n",
    "\n",
    "```python\n",
    "df.head()\n",
    "\n",
    "```\n",
    "</details>"
   ]
  },
  {
   "cell_type": "markdown",
   "id": "KQpyrnDG5y1s",
   "metadata": {
    "id": "KQpyrnDG5y1s"
   },
   "source": [
    "## Дослідження даних"
   ]
  },
  {
   "cell_type": "markdown",
   "id": "eUmmORDs9p5s",
   "metadata": {
    "id": "eUmmORDs9p5s"
   },
   "source": [
    "### Агрегація і фільтрація даних"
   ]
  },
  {
   "cell_type": "markdown",
   "id": "6UnZNGdl6DuM",
   "metadata": {
    "id": "6UnZNGdl6DuM"
   },
   "source": [
    "Авокадо якого типу продаються більше?"
   ]
  },
  {
   "cell_type": "code",
   "execution_count": null,
   "id": "E_JxX38d6Ti4",
   "metadata": {
    "id": "E_JxX38d6Ti4"
   },
   "outputs": [],
   "source": [
    "df_grouped = df.groupby('type').agg(avg_vol=('Total Volume', 'mean')).reset_index()\n",
    "df_grouped['percentage'] = (df_grouped['avg_vol'] / df_grouped['avg_vol'].sum()) * 100"
   ]
  },
  {
   "cell_type": "code",
   "execution_count": null,
   "id": "m0x-IhsH6ZuX",
   "metadata": {
    "id": "m0x-IhsH6ZuX"
   },
   "outputs": [],
   "source": [
    "df_grouped"
   ]
  },
  {
   "cell_type": "code",
   "execution_count": null,
   "id": "PuDnv03D6rUj",
   "metadata": {
    "id": "PuDnv03D6rUj"
   },
   "outputs": [],
   "source": [
    "df_grouped.round(2)"
   ]
  },
  {
   "cell_type": "markdown",
   "id": "yycVafn49v86",
   "metadata": {
    "id": "yycVafn49v86"
   },
   "source": [
    "Отже, авокадо звичайні мають більші обʼєми продажів. А яка різниця у ціні на ці типи авокадо?"
   ]
  },
  {
   "cell_type": "code",
   "execution_count": null,
   "id": "eqDK5_-S9vjI",
   "metadata": {
    "id": "eqDK5_-S9vjI"
   },
   "outputs": [],
   "source": [
    "df.groupby('type').agg('AveragePrice').mean()"
   ]
  },
  {
   "cell_type": "markdown",
   "id": "8nnNeRHW8_vj",
   "metadata": {
    "id": "8nnNeRHW8_vj"
   },
   "source": [
    "В якому регіоні найдешевше і найдорожче звичайне авокадо? Для цього маємо спочатку відфільтрувати дані, а потім загрегувати і відсортувати."
   ]
  },
  {
   "cell_type": "code",
   "execution_count": null,
   "id": "bc_JMMtg9Njn",
   "metadata": {
    "id": "bc_JMMtg9Njn"
   },
   "outputs": [],
   "source": [
    "df_conv = df[df['type']=='conventional']"
   ]
  },
  {
   "cell_type": "code",
   "execution_count": null,
   "id": "7SF490EQ-dVo",
   "metadata": {
    "id": "7SF490EQ-dVo"
   },
   "outputs": [],
   "source": [
    "df_conv_by_region = df_conv.groupby('region').AveragePrice.mean().sort_values()"
   ]
  },
  {
   "cell_type": "markdown",
   "id": "zDWWi8FM_JWB",
   "metadata": {
    "id": "zDWWi8FM_JWB"
   },
   "source": [
    "Знайдемо максимальне і мінімальне значення."
   ]
  },
  {
   "cell_type": "code",
   "execution_count": null,
   "id": "mBHYGZ1d-l1y",
   "metadata": {
    "id": "mBHYGZ1d-l1y"
   },
   "outputs": [],
   "source": [
    "df_conv_by_region.min(), df_conv_by_region.max()"
   ]
  },
  {
   "cell_type": "markdown",
   "id": "VjZnFK3M_N2K",
   "metadata": {
    "id": "VjZnFK3M_N2K"
   },
   "source": [
    "Чудово! Тепер ми можемо знайти назви регіонів з мінімальним і максимальним значеннями."
   ]
  },
  {
   "cell_type": "code",
   "execution_count": null,
   "id": "VDudaHTz-60j",
   "metadata": {
    "id": "VDudaHTz-60j"
   },
   "outputs": [],
   "source": [
    "display(\n",
    "    df_conv_by_region[df_conv_by_region==df_conv_by_region.min()], \n",
    "    df_conv_by_region[df_conv_by_region==df_conv_by_region.max()]\n",
    ")"
   ]
  },
  {
   "cell_type": "markdown",
   "id": "zA30iUb97CnY",
   "metadata": {
    "id": "zA30iUb97CnY"
   },
   "source": [
    "### Візуалізація даних\n",
    "\n",
    "Візуалізуємо і порівняємо динаміку цін на авокадо в цілому, а також за типами."
   ]
  },
  {
   "cell_type": "code",
   "execution_count": null,
   "id": "ujvwNqO-7Z1M",
   "metadata": {
    "id": "ujvwNqO-7Z1M"
   },
   "outputs": [],
   "source": [
    "# Перетворимо стовпець \"Date\" на об'єкт datetime і відсортуємо DataFrame за датою\n",
    "df['Date'] = pd.to_datetime(df['Date'], format='%Y-%m-%d')\n",
    "df = df.sort_values(by='Date')"
   ]
  },
  {
   "cell_type": "markdown",
   "id": "7Ly-7uOy9IUN",
   "metadata": {
    "id": "7Ly-7uOy9IUN"
   },
   "source": [
    "Побудова візуалізацій. Для початку імпортуємо дві бібліотеки які нам потрібні."
   ]
  },
  {
   "cell_type": "code",
   "execution_count": null,
   "id": "rEy9_-nl9PEW",
   "metadata": {
    "id": "rEy9_-nl9PEW"
   },
   "outputs": [],
   "source": [
    "import matplotlib.pyplot as plt\n",
    "import seaborn as sns"
   ]
  },
  {
   "cell_type": "markdown",
   "id": "V2bQrXzM9QEK",
   "metadata": {
    "id": "V2bQrXzM9QEK"
   },
   "source": [
    "Побудуємо для початку найпростіший можливий вигляд графіку."
   ]
  },
  {
   "cell_type": "code",
   "execution_count": null,
   "id": "hb6v-Nst8qTN",
   "metadata": {
    "id": "hb6v-Nst8qTN"
   },
   "outputs": [],
   "source": [
    "plt.figure(figsize=(12, 6))\n",
    "plt.plot(df.Date, df.AveragePrice);"
   ]
  },
  {
   "cell_type": "markdown",
   "id": "Rb-OOwvRLHjK",
   "metadata": {
    "id": "Rb-OOwvRLHjK"
   },
   "source": [
    "Так сталось, бо у нас дані по країнам. Відповідно дані \"скачуть\", бо обʼєми продажів у нас в різних країнах і для різних типів авокадо різні. \"Приблизимо трохи дані\""
   ]
  },
  {
   "cell_type": "code",
   "execution_count": null,
   "id": "qY5NmMU_LbQ2",
   "metadata": {
    "id": "qY5NmMU_LbQ2"
   },
   "outputs": [],
   "source": [
    "plt.figure(figsize=(12, 6))\n",
    "plt.plot(df.Date[:1000], df.AveragePrice[:1000]);"
   ]
  },
  {
   "cell_type": "markdown",
   "id": "qZgrJ-xrMxGf",
   "metadata": {
    "id": "qZgrJ-xrMxGf"
   },
   "source": [
    "Що ж робити? Ну, наприклад, агрегувати дані."
   ]
  },
  {
   "cell_type": "code",
   "execution_count": null,
   "id": "S4jNeBpZMjlW",
   "metadata": {
    "id": "S4jNeBpZMjlW"
   },
   "outputs": [],
   "source": [
    "plt.figure(figsize=(12, 6))\n",
    "plt.plot(df.groupby('Date').AveragePrice.mean());"
   ]
  },
  {
   "cell_type": "markdown",
   "id": "_Cv9nqmMLqnG",
   "metadata": {
    "id": "_Cv9nqmMLqnG"
   },
   "source": [
    "Ми могли б трансформувати дані, а можемо натомість використати більш \"розумну\" бібліотеку для побудови графіка."
   ]
  },
  {
   "cell_type": "code",
   "execution_count": null,
   "id": "df2WKQ6h7qfJ",
   "metadata": {
    "id": "df2WKQ6h7qfJ"
   },
   "outputs": [],
   "source": [
    "plt.figure(figsize=(12, 6))\n",
    "sns.lineplot(x='Date', y='AveragePrice', data=df, alpha=0.3)\n",
    "plt.title('Price Trend');"
   ]
  },
  {
   "cell_type": "markdown",
   "id": "mzZiCyUuL0ZH",
   "metadata": {
    "id": "mzZiCyUuL0ZH"
   },
   "source": [
    "Значно краще, правда? :) \n",
    "Тепер виведемо динаміку по типам авокадо."
   ]
  },
  {
   "cell_type": "code",
   "execution_count": null,
   "id": "TBRNEYcrLz8-",
   "metadata": {
    "id": "TBRNEYcrLz8-"
   },
   "outputs": [],
   "source": [
    "plt.figure(figsize=(12, 6))\n",
    "sns.lineplot(x='Date', y='AveragePrice', hue='type', data=df, alpha=0.3)\n",
    "plt.title('Price Trend by Type');"
   ]
  },
  {
   "cell_type": "markdown",
   "id": "iQpCvp8d56Rf",
   "metadata": {
    "id": "iQpCvp8d56Rf"
   },
   "source": [
    "**Резюме:**\n",
    "- Органічні авокадо: виходячи зі змін цін протягом тривалого часу, ми бачимо, що вони **дорожчі**.\n",
    "- Звичайні авокадо: виходячи зі змін цін протягом тривалого часу, ми бачимо, що вони **дешевші**."
   ]
  },
  {
   "cell_type": "markdown",
   "id": "IwkmDDzjMgB3",
   "metadata": {
    "id": "IwkmDDzjMgB3"
   },
   "source": [
    "**Завдання 6**: Побудуйте графік динаміки цін на авокадо (обох типів) аналогічни до того, що ми щойно побудували, по типам авокадо, тільки для конкретного регіона - `Chicago`. Проаналізуйте графік. Чи схожа тенденція в Чикаго на загальну? В чому бачите відмінності? Чи було таке, що органічні авокадо були дешевші за звичайні?\n",
    "\n",
    "<details>\n",
    "<summary>Натисніть тут аби побачити розвʼязок</summary>\n",
    "\n",
    "```python\n",
    "plt.figure(figsize=(12, 6))\n",
    "sns.lineplot(x='Date', y='AveragePrice', hue='type', data=df[df['region']=='Chicago'])\n",
    "plt.title('Price Trend by Type');\n",
    "\n",
    "```\n",
    "Найдорожчі авокадо виходять у нас в , а найдешевші - в \n",
    "</details>"
   ]
  },
  {
   "cell_type": "markdown",
   "id": "89v-EyEWPfPI",
   "metadata": {
    "id": "89v-EyEWPfPI"
   },
   "source": [
    "Розглянемо ще один вид графіку - гістограма."
   ]
  },
  {
   "cell_type": "code",
   "execution_count": null,
   "id": "ZDvxz2RaPtmH",
   "metadata": {
    "id": "ZDvxz2RaPtmH"
   },
   "outputs": [],
   "source": [
    "sns.set(style='whitegrid')\n",
    "sns.histplot(x='AveragePrice', data=df);"
   ]
  },
  {
   "cell_type": "markdown",
   "id": "GvkHoXBC_mUC",
   "metadata": {
    "id": "GvkHoXBC_mUC"
   },
   "source": [
    "Ми можемо змінити кількість на частоту. А також можемо змінити кількість бінів."
   ]
  },
  {
   "cell_type": "code",
   "execution_count": null,
   "id": "-nWa5dGfRHp2",
   "metadata": {
    "id": "-nWa5dGfRHp2"
   },
   "outputs": [],
   "source": [
    "sns.histplot(x='AveragePrice', stat='probability', data=df, bins=20);"
   ]
  },
  {
   "cell_type": "markdown",
   "id": "z-6omODCRne8",
   "metadata": {
    "id": "z-6omODCRne8"
   },
   "source": [
    "Детальніше про параметри методу можна дізнатись вже відомим нам способом через знак питання, або в [документації](https://seaborn.pydata.org/generated/seaborn.histplot.html)."
   ]
  },
  {
   "cell_type": "markdown",
   "id": "lq2DmZ-vR299",
   "metadata": {
    "id": "lq2DmZ-vR299"
   },
   "source": [
    "Побудуємо гістограми по типам авокадо."
   ]
  },
  {
   "cell_type": "code",
   "execution_count": null,
   "id": "mN6tOGY4Pnpb",
   "metadata": {
    "id": "mN6tOGY4Pnpb"
   },
   "outputs": [],
   "source": [
    "sns.histplot(x='AveragePrice', hue='type', data=df);"
   ]
  },
  {
   "cell_type": "markdown",
   "id": "RqEjTqbr_0LY",
   "metadata": {
    "id": "RqEjTqbr_0LY"
   },
   "source": [
    "**Завдання 7**: Побудуйте гістограми розподілів цін на авокадо за типами для регіона з найвищою ціною. Ми знаходили цей регіон раніше. В назві графіка зазначте назву регіона і що зображено на графіку (ми вивели розподіл цін на авокадо). \n",
    "\n",
    "<details>\n",
    "<summary>Натисніть тут аби побачити розвʼязок</summary>\n",
    "\n",
    "```python\n",
    "region_name = 'HartfordSpringfield'\n",
    "sns.histplot(x='AveragePrice', hue='type', data=df[df.region==region_name])\n",
    "plt.title('Prices distribution for avocados in '+region_name);\n",
    "```\n",
    "Найдорожчі авокадо виходять у нас в , а найдешевші - в \n",
    "</details>"
   ]
  },
  {
   "cell_type": "markdown",
   "id": "a6df5dd6",
   "metadata": {
    "id": "a6df5dd6"
   },
   "source": [
    "## Запис у файл CSV"
   ]
  },
  {
   "cell_type": "code",
   "execution_count": null,
   "id": "f492bfc5",
   "metadata": {
    "ExecuteTime": {
     "end_time": "2023-03-10T20:05:23.858485Z",
     "start_time": "2023-03-10T20:05:23.847673Z"
    },
    "id": "f492bfc5"
   },
   "outputs": [],
   "source": [
    "df.to_csv(\"drive/MyDrive/Instagram/Майстер-клас Python for DA/avocado_upd.csv\", index=False)"
   ]
  },
  {
   "cell_type": "markdown",
   "id": "gbz9CDHxDfqX",
   "metadata": {
    "id": "gbz9CDHxDfqX"
   },
   "source": [
    "На цьому наш вступна частина у світ програмування і аналізу даних добігла кінця. Буду рада вашим враженням в чаті курсу та відміткам в інстаграмі. Заряджайте своє оточення бажанням вчитись!)"
   ]
  }
 ],
 "metadata": {
  "colab": {
   "provenance": []
  },
  "kernelspec": {
   "display_name": "Python 3 (ipykernel)",
   "language": "python",
   "name": "python3"
  },
  "language_info": {
   "codemirror_mode": {
    "name": "ipython",
    "version": 3
   },
   "file_extension": ".py",
   "mimetype": "text/x-python",
   "name": "python",
   "nbconvert_exporter": "python",
   "pygments_lexer": "ipython3",
   "version": "3.10.11"
  },
  "toc": {
   "base_numbering": 1,
   "nav_menu": {},
   "number_sections": true,
   "sideBar": true,
   "skip_h1_title": false,
   "title_cell": "Table of Contents",
   "title_sidebar": "Contents",
   "toc_cell": false,
   "toc_position": {},
   "toc_section_display": true,
   "toc_window_display": false
  }
 },
 "nbformat": 4,
 "nbformat_minor": 5
}
