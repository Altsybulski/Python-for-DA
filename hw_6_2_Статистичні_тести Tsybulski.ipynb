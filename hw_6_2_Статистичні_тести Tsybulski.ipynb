{
  "cells": [
    {
      "cell_type": "markdown",
      "metadata": {
        "id": "view-in-github",
        "colab_type": "text"
      },
      "source": [
        "<a href=\"https://colab.research.google.com/github/Altsybulski/Python-for-DA/blob/main/hw_6_2_%D0%A1%D1%82%D0%B0%D1%82%D0%B8%D1%81%D1%82%D0%B8%D1%87%D0%BD%D1%96_%D1%82%D0%B5%D1%81%D1%82%D0%B8%20Tsybulski.ipynb\" target=\"_parent\"><img src=\"https://colab.research.google.com/assets/colab-badge.svg\" alt=\"Open In Colab\"/></a>"
      ]
    },
    {
      "cell_type": "markdown",
      "id": "e152f6d6",
      "metadata": {
        "ExecuteTime": {
          "end_time": "2022-12-10T14:29:24.703416Z",
          "start_time": "2022-12-10T14:29:24.688485Z"
        },
        "id": "e152f6d6"
      },
      "source": [
        "## Домашнє завдання 6: Статистичні тести"
      ]
    },
    {
      "cell_type": "markdown",
      "id": "cd404683",
      "metadata": {
        "id": "cd404683"
      },
      "source": [
        "0. Зчитайте дані з `data.csv` та запишіть значення колонки data у форматі np.ndarray в змінну data. Ми будемо далі працювати з цією змінною."
      ]
    },
    {
      "cell_type": "code",
      "source": [
        "import pandas as pd\n",
        "import numpy as np\n",
        "import scipy.stats as stats\n",
        "from statsmodels.stats.weightstats import ztest"
      ],
      "metadata": {
        "id": "a8M1Xqa3hInl"
      },
      "id": "a8M1Xqa3hInl",
      "execution_count": null,
      "outputs": []
    },
    {
      "cell_type": "code",
      "source": [
        "from google.colab import drive\n",
        "drive.mount('/content/drive')"
      ],
      "metadata": {
        "colab": {
          "base_uri": "https://localhost:8080/"
        },
        "id": "JU5o_1u3_Os7",
        "outputId": "cc3158e2-dee4-4808-b91c-7bc792426bf9"
      },
      "id": "JU5o_1u3_Os7",
      "execution_count": null,
      "outputs": [
        {
          "output_type": "stream",
          "name": "stdout",
          "text": [
            "Drive already mounted at /content/drive; to attempt to forcibly remount, call drive.mount(\"/content/drive\", force_remount=True).\n"
          ]
        }
      ]
    },
    {
      "cell_type": "code",
      "source": [
        "df = pd.read_csv('drive/MyDrive/Data Analysis 7.0/data/data_statistics/data_1.csv')"
      ],
      "metadata": {
        "id": "z4VvyFHI_e_Y"
      },
      "id": "z4VvyFHI_e_Y",
      "execution_count": null,
      "outputs": []
    },
    {
      "cell_type": "code",
      "source": [
        "data_1 = np.array(df['data'])"
      ],
      "metadata": {
        "id": "QOaqkPwz_0Gk"
      },
      "id": "QOaqkPwz_0Gk",
      "execution_count": null,
      "outputs": []
    },
    {
      "cell_type": "markdown",
      "id": "3d06cbbf",
      "metadata": {
        "id": "3d06cbbf"
      },
      "source": [
        "Запустіть код нижче. Для коректної робити всіх подальших методів дані мають бути у вигляді одновимірного вектора, тобто мати розмір (100,)."
      ]
    },
    {
      "cell_type": "code",
      "source": [
        "data_1.shape"
      ],
      "metadata": {
        "id": "Rc_cM9TfhJYI",
        "colab": {
          "base_uri": "https://localhost:8080/"
        },
        "outputId": "da961a8a-e939-43e0-c662-90a876d18f44"
      },
      "id": "Rc_cM9TfhJYI",
      "execution_count": null,
      "outputs": [
        {
          "output_type": "execute_result",
          "data": {
            "text/plain": [
              "(100,)"
            ]
          },
          "metadata": {},
          "execution_count": 277
        }
      ]
    },
    {
      "cell_type": "markdown",
      "id": "abdcef5d",
      "metadata": {
        "id": "abdcef5d"
      },
      "source": [
        "1. Зчитані дані - це сума покупок в доларах наших покупців на сайті протягом липня 2022 року.\n",
        "\n",
        "До цього місяця, ми мали продажі в середньому на чек $20. Чи вийшло у нас статистично значущо **підвищити** середній чек за останній місяць?\n",
        "\n",
        "Оберіть статистичний тест (z-test чи t-test). Виведіть p-значення статистичного тесту та зробіть висновок, чи ми маємо зараз статистично значущу різницю у розмірі середнього чеку.\n",
        "\n",
        "**Підказка**: тут тест буде одновибірковий."
      ]
    },
    {
      "cell_type": "markdown",
      "source": [
        "Представимо 2 гіпотези:\n",
        "\n",
        "Нульова гіпотеза (H₀): Середнє значення чека за липень 2022 року не відрізняється від 20 доларів (середнє значення не змінилося).\n"
      ],
      "metadata": {
        "id": "Zh4TYO5fBkQr"
      },
      "id": "Zh4TYO5fBkQr"
    },
    {
      "cell_type": "code",
      "source": [
        "# Очікуване середнє значення (середній чек до липня 2022 року)\n",
        "expected_mean = 20\n",
        "# Рівен значущості\n",
        "alpha = 0.05"
      ],
      "metadata": {
        "id": "XhxcSbYqhLz9"
      },
      "id": "XhxcSbYqhLz9",
      "execution_count": null,
      "outputs": []
    },
    {
      "cell_type": "code",
      "source": [
        "# Виконання t-тесту для однієї вибірки за допомогою scipy\n",
        "t_stat, p_value = stats.ttest_1samp(data_1, expected_mean)\n",
        "# Виводимо результати\n",
        "print(f\"t-статистика: {t_stat}\")\n",
        "print(f\"p-значення: {p_value}\")"
      ],
      "metadata": {
        "colab": {
          "base_uri": "https://localhost:8080/"
        },
        "id": "hQwxh6GsAcEv",
        "outputId": "195f4e9e-b8f1-41a5-8b07-383ae5d3f3f8"
      },
      "id": "hQwxh6GsAcEv",
      "execution_count": null,
      "outputs": [
        {
          "output_type": "stream",
          "name": "stdout",
          "text": [
            "t-статистика: -0.9953477389335053\n",
            "p-значение: 0.3219937839011988\n"
          ]
        }
      ]
    },
    {
      "cell_type": "code",
      "source": [
        "# Висновок\n",
        "if p_value < alpha:\n",
        "    print(\"Ми маємо статистично значущу різницю в середньому чеку (відкидаємо H₀).\")\n",
        "else:\n",
        "    print(\"Немає статистично значущої різниці в середньому чеку (не відкидаємо H₀).\")"
      ],
      "metadata": {
        "colab": {
          "base_uri": "https://localhost:8080/"
        },
        "id": "DKAwQac4BYcN",
        "outputId": "1bdcedb6-bf28-4251-a576-0d2e580c8e35"
      },
      "id": "DKAwQac4BYcN",
      "execution_count": null,
      "outputs": [
        {
          "output_type": "stream",
          "name": "stdout",
          "text": [
            "Немає статистично значущої різниці в середньому чеку (не відкидаємо H₀).\n"
          ]
        }
      ]
    },
    {
      "cell_type": "markdown",
      "id": "05219e41",
      "metadata": {
        "ExecuteTime": {
          "end_time": "2022-12-10T14:52:46.140204Z",
          "start_time": "2022-12-10T14:52:46.112068Z"
        },
        "id": "05219e41"
      },
      "source": [
        "2. Пройшов час, і ми зібрали дані про продажі за серпень 2022 року, які зберігли у файл `data_2.csv`. Продажів було дещо більше, але чи змінився стат. значущо середній чек порівняно з липнем 2022? Перевірте це використовуючи ztest.\n",
        "\n",
        "  Виведіть p-значення статистичного тесту та зробіть висновок, чи ми маємо зараз статистично значущу різницю у розмірі середнього чека між двома місяцями.\n",
        "\n",
        "  **Підказка**: треба провести двовибірковий ztest з Н0 - що середні значення в липні та серпні 2022 року - однакові. Для кращого розуміння ситуації, можливо вам буде цікаво переглянути, які середні показники чеку були в кожен з місяців. Порівняйте свій висновок з простого спостереження середніх значень і висновок статистичного тесту. Чи вони збігаються?"
      ]
    },
    {
      "cell_type": "code",
      "source": [
        "df = pd.read_csv('drive/MyDrive/Data Analysis 7.0/data/data_statistics/data_2.csv')"
      ],
      "metadata": {
        "id": "hbs7LPI4hP-6"
      },
      "id": "hbs7LPI4hP-6",
      "execution_count": null,
      "outputs": []
    },
    {
      "cell_type": "code",
      "source": [
        "data_2 = np.array(df['data'])"
      ],
      "metadata": {
        "id": "Oe1BdIGKCR-b"
      },
      "id": "Oe1BdIGKCR-b",
      "execution_count": null,
      "outputs": []
    },
    {
      "cell_type": "code",
      "source": [
        "data_2.shape"
      ],
      "metadata": {
        "colab": {
          "base_uri": "https://localhost:8080/"
        },
        "id": "p3H60so1CW6v",
        "outputId": "41fc1756-8653-46bb-e521-3b98ad8ef85b"
      },
      "id": "p3H60so1CW6v",
      "execution_count": null,
      "outputs": [
        {
          "output_type": "execute_result",
          "data": {
            "text/plain": [
              "(120,)"
            ]
          },
          "metadata": {},
          "execution_count": 283
        }
      ]
    },
    {
      "cell_type": "code",
      "source": [
        "# Порівняємо просто середні значення для кожного місяця data_1(Липень), data_2(Серпень):\n",
        "print('mean(Липень) = %.2f, mean(Серпень) = %.2f' % (np.mean(data_1), np.mean(data_2)))"
      ],
      "metadata": {
        "colab": {
          "base_uri": "https://localhost:8080/"
        },
        "id": "y3sunHvjEJuY",
        "outputId": "40097bbb-0a64-45e1-e959-2dcef9f2268e"
      },
      "id": "y3sunHvjEJuY",
      "execution_count": null,
      "outputs": [
        {
          "output_type": "stream",
          "name": "stdout",
          "text": [
            "mean(Липень) = 19.38, mean(Серпень) = 19.37\n"
          ]
        }
      ]
    },
    {
      "cell_type": "markdown",
      "source": [
        "Висновок: Немає статистично значущої різниці в середньому чеку між двома місяцями - не відкидаємо H₀."
      ],
      "metadata": {
        "id": "Joi34tYKIX5i"
      },
      "id": "Joi34tYKIX5i"
    },
    {
      "cell_type": "code",
      "source": [
        "# Виконуємо тест.\n",
        "ztest(data_1, data_2, value=0)"
      ],
      "metadata": {
        "colab": {
          "base_uri": "https://localhost:8080/"
        },
        "id": "jotyniDGEU5u",
        "outputId": "3eedfd91-413d-47b9-d223-8e801fca865c"
      },
      "id": "jotyniDGEU5u",
      "execution_count": null,
      "outputs": [
        {
          "output_type": "execute_result",
          "data": {
            "text/plain": [
              "(0.005246673456808504, 0.9958137794593356)"
            ]
          },
          "metadata": {},
          "execution_count": 285
        }
      ]
    },
    {
      "cell_type": "markdown",
      "source": [
        "Статистика для двох вибірок z-критерію становить 0.0052, а відповідне p-value дорівнює 0.9958."
      ],
      "metadata": {
        "id": "hQJZl8C4I92x"
      },
      "id": "hQJZl8C4I92x"
    },
    {
      "cell_type": "code",
      "source": [
        "# Висновок\n",
        "if p_value < alpha:\n",
        "    print(\"Ми маємо статистично значущу різницю в середньому чеку (відкидаємо H₀).\")\n",
        "else:\n",
        "    print(\"Немає статистично значущої різниці в середньому чеку (не відкидаємо H₀).\")"
      ],
      "metadata": {
        "colab": {
          "base_uri": "https://localhost:8080/"
        },
        "id": "nzrIsyi2EbZw",
        "outputId": "f1332cc2-41b5-4ed7-aa63-972254fc4872"
      },
      "id": "nzrIsyi2EbZw",
      "execution_count": null,
      "outputs": [
        {
          "output_type": "stream",
          "name": "stdout",
          "text": [
            "Немає статистично значущої різниці в середньому чеку (не відкидаємо H₀).\n"
          ]
        }
      ]
    },
    {
      "cell_type": "markdown",
      "source": [
        "Оскільки p-value > 0.05, у нас немає достатньо доказів, щоб відкинути нульову гіпотезу.\n",
        "Іншими словами, у нас немає значущої різниці у розмірі середнього чека між двома місяцями 2022 року, середні значення в липні та серпні 2022 року - однакові."
      ],
      "metadata": {
        "id": "y5SYBKzUJQIA"
      },
      "id": "y5SYBKzUJQIA"
    }
  ],
  "metadata": {
    "hide_input": false,
    "kernelspec": {
      "display_name": "Python 3 (ipykernel)",
      "language": "python",
      "name": "python3"
    },
    "language_info": {
      "codemirror_mode": {
        "name": "ipython",
        "version": 3
      },
      "file_extension": ".py",
      "mimetype": "text/x-python",
      "name": "python",
      "nbconvert_exporter": "python",
      "pygments_lexer": "ipython3",
      "version": "3.11.3"
    },
    "toc": {
      "base_numbering": 1,
      "nav_menu": {},
      "number_sections": true,
      "sideBar": true,
      "skip_h1_title": false,
      "title_cell": "Table of Contents",
      "title_sidebar": "Contents",
      "toc_cell": false,
      "toc_position": {},
      "toc_section_display": true,
      "toc_window_display": false
    },
    "varInspector": {
      "cols": {
        "lenName": 16,
        "lenType": 16,
        "lenVar": 40
      },
      "kernels_config": {
        "python": {
          "delete_cmd_postfix": "",
          "delete_cmd_prefix": "del ",
          "library": "var_list.py",
          "varRefreshCmd": "print(var_dic_list())"
        },
        "r": {
          "delete_cmd_postfix": ") ",
          "delete_cmd_prefix": "rm(",
          "library": "var_list.r",
          "varRefreshCmd": "cat(var_dic_list()) "
        }
      },
      "types_to_exclude": [
        "module",
        "function",
        "builtin_function_or_method",
        "instance",
        "_Feature"
      ],
      "window_display": false
    },
    "colab": {
      "provenance": [],
      "include_colab_link": true
    }
  },
  "nbformat": 4,
  "nbformat_minor": 5
}